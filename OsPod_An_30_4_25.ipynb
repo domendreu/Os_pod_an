{
  "nbformat": 4,
  "nbformat_minor": 0,
  "metadata": {
    "colab": {
      "provenance": [],
      "authorship_tag": "ABX9TyNHidmiLB6ZAzPgGHkfM4/6",
      "include_colab_link": true
    },
    "kernelspec": {
      "name": "python3",
      "display_name": "Python 3"
    },
    "language_info": {
      "name": "python"
    }
  },
  "cells": [
    {
      "cell_type": "markdown",
      "metadata": {
        "id": "view-in-github",
        "colab_type": "text"
      },
      "source": [
        "<a href=\"https://colab.research.google.com/github/domendreu/Os_pod_an/blob/main/OsPod_An_30_4_25.ipynb\" target=\"_parent\"><img src=\"https://colab.research.google.com/assets/colab-badge.svg\" alt=\"Open In Colab\"/></a>"
      ]
    },
    {
      "cell_type": "code",
      "execution_count": null,
      "metadata": {
        "id": "XpBwGhuS_493"
      },
      "outputs": [],
      "source": [
        "#povezava z Drivom, da lahko uporablja vse datasete, ki so tam\n",
        "#omejitve Google Colaba\n",
        "#python chain dependency - za določene funkcionalnosti rabiš različne verzije modulov\n",
        "#Zato je potrebno za vsak projekt narediti virtualno okolje, kjer izberemo inštalacijo pythona, naložimo samo pomembne pakete, ...\n"
      ]
    },
    {
      "cell_type": "code",
      "source": [
        "print(\"Hello, world!\")"
      ],
      "metadata": {
        "id": "0t-mjYQpClQZ"
      },
      "execution_count": null,
      "outputs": []
    }
  ]
}